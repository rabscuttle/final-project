{
 "cells": [
  {
   "cell_type": "code",
   "execution_count": null,
   "metadata": {},
   "outputs": [],
   "source": [
    "import matplotlib.pyplot as plt\n",
    "import numpy as np\n",
    "import pandas as pd\n",
    "import os"
   ]
  },
  {
   "cell_type": "code",
   "execution_count": null,
   "metadata": {
    "scrolled": true
   },
   "outputs": [],
   "source": [
    "# Get CSV file\n",
    "zoo = pd.read_csv(os.path.join('Resources', 'zoo.csv'))\n",
    "zoo"
   ]
  },
  {
   "cell_type": "code",
   "execution_count": null,
   "metadata": {},
   "outputs": [],
   "source": [
    "zoo_df=zoo.set_index('animal_name')\n",
    "zoo_df"
   ]
  },
  {
   "cell_type": "code",
   "execution_count": null,
   "metadata": {},
   "outputs": [],
   "source": [
    "# Data for predictions\n",
    "kangaroo = np.array([[1,0,0,1,0,0,0,1,1,1,0,0,2,1,0,1]])\n",
    "bald_eagle = np.array([[0,1,1,0,1,0,1,0,1,1,0,0,2,1,0,0]])\n",
    "rattle_snake = np.array([[0,0,1,0,0,0,1,1,1,1,1,0,0,1,0,0,]])\n",
    "goldfish = np.array([[0,0,1,0,0,1,0,0,1,0,0,1,0,1,1,0]])\n",
    "mountain_chicken_frog = np.array([[0,0,1,0,0,1,1,0,1,1,0,0,4,0,0,0]])\n",
    "vampire_moth = np.array([[0,0,1,0,1,0,1,0,0,1,0,0,6,0,0,0]])\n",
    "coral = np.array([[0,0,0,0,0,1,0,0,0,0,0,0,0,0,0,0]])\n",
    "sea_turtle = np.array([[0,0,1,0,0,1,1,0,1,0,0,1,4,1,0,1]])"
   ]
  },
  {
   "cell_type": "code",
   "execution_count": null,
   "metadata": {},
   "outputs": [],
   "source": [
    "# Assign X and y\n",
    "X = zoo_df.drop([\"class_type\",\"class\"], axis=1)\n",
    "y_name = zoo_df[\"class\"]\n",
    "print (X.shape, y_name.shape)"
   ]
  },
  {
   "cell_type": "markdown",
   "metadata": {},
   "source": [
    "### Neural network"
   ]
  },
  {
   "cell_type": "code",
   "execution_count": null,
   "metadata": {},
   "outputs": [],
   "source": [
    "# y = y.reshape(-1, 1)\n",
    "\n",
    "print(X.shape)\n",
    "print(y_name.shape)"
   ]
  },
  {
   "cell_type": "code",
   "execution_count": null,
   "metadata": {},
   "outputs": [],
   "source": [
    "#Train Test Split\n",
    "from sklearn.model_selection import train_test_split\n",
    "\n",
    "X_train, X_test, y_name_train, y_name_test = train_test_split(X, y_name, random_state=1)"
   ]
  },
  {
   "cell_type": "code",
   "execution_count": null,
   "metadata": {},
   "outputs": [],
   "source": [
    "#Scaling - CHANGE TO MINMAX SCALER\n",
    "from sklearn.preprocessing import StandardScaler\n",
    "\n",
    "X_scaler = StandardScaler().fit(X_train)\n",
    "X_train_scaled = X_scaler.transform(X_train)\n",
    "X_test_scaled = X_scaler.transform(X_test)"
   ]
  },
  {
   "cell_type": "code",
   "execution_count": null,
   "metadata": {},
   "outputs": [],
   "source": [
    "# Label Encoding\n",
    "from sklearn.preprocessing import LabelEncoder\n",
    "\n",
    "label_encoder = LabelEncoder()\n",
    "label_encoder.fit(y_name)\n",
    "encoded_y_train = label_encoder.transform(y_name_train)\n",
    "encoded_y_test= label_encoder.transform(y_name_test)"
   ]
  },
  {
   "cell_type": "code",
   "execution_count": null,
   "metadata": {
    "scrolled": true
   },
   "outputs": [],
   "source": [
    "# One-Hot Encoding\n",
    "from tensorflow.keras.utils import to_categorical\n",
    "\n",
    "y_name_train_categorical = to_categorical(encoded_y_train)\n",
    "y_name_test_categorical = to_categorical(encoded_y_test)\n",
    "y_name_train_categorical\n"
   ]
  },
  {
   "cell_type": "code",
   "execution_count": null,
   "metadata": {},
   "outputs": [],
   "source": [
    "from tensorflow.keras.models import Sequential\n",
    "\n",
    "nn_model = Sequential()\n",
    "\n",
    "#Add first layer\n",
    "from tensorflow.keras.layers import Dense\n",
    "nn_model.add(Dense(units=48,activation='relu', input_dim=16))\n",
    "\n",
    "#Add output layer\n",
    "nn_model.add(Dense(units=7, activation='softmax'))\n",
    "\n",
    "#Compile the model\n",
    "nn_model.compile(optimizer='adam',\n",
    "              loss='categorical_crossentropy',\n",
    "              metrics=['accuracy'])"
   ]
  },
  {
   "cell_type": "code",
   "execution_count": null,
   "metadata": {},
   "outputs": [],
   "source": [
    "nn_model.summary()"
   ]
  },
  {
   "cell_type": "code",
   "execution_count": null,
   "metadata": {},
   "outputs": [],
   "source": [
    "# Fit (train) the model\n",
    "nn_model.fit(\n",
    "    X_train_scaled,\n",
    "    y_name_train_categorical,\n",
    "    epochs=1000,\n",
    "    shuffle=True,\n",
    "    verbose=2\n",
    ")\n"
   ]
  },
  {
   "cell_type": "code",
   "execution_count": null,
   "metadata": {},
   "outputs": [],
   "source": [
    "for label, original_class in zip(encoded_y_train, y_name):\n",
    "    print('Original Class: ' + str(original_class))\n",
    "    print('Encoded Label: ' + str(label))\n",
    "    print('-' * 12)"
   ]
  },
  {
   "cell_type": "code",
   "execution_count": null,
   "metadata": {},
   "outputs": [],
   "source": [
    "print(f\"Predictions\")\n",
    "print(f\"Kangaroo: {nn_model.predict_classes(kangaroo)}\")\n",
    "print(f\"Bald Eagle: {nn_model.predict_classes(bald_eagle)}\")\n",
    "print(f\"Rattle Snake: {nn_model.predict_classes(rattle_snake)}\")\n",
    "print(f\"Goldfish: {nn_model.predict_classes(goldfish)}\")\n",
    "print(f\"Mountain Chicken Frog: {nn_model.predict_classes(mountain_chicken_frog)}\")\n",
    "print(f\"Vampire Moth: {nn_model.predict_classes(vampire_moth)}\")\n",
    "print(f\"Coral: {nn_model.predict_classes(coral)}\")\n",
    "print(f\"Sea Turtle: {nn_model.predict_classes(sea_turtle)}\")"
   ]
  },
  {
   "cell_type": "code",
   "execution_count": null,
   "metadata": {
    "scrolled": true
   },
   "outputs": [],
   "source": [
    "predictions_nn = nn_model.predict_classes(X_test)\n",
    "predictions_nn_labels = label_encoder.inverse_transform(predictions_nn)\n",
    "predictions_nn_labels"
   ]
  },
  {
   "cell_type": "code",
   "execution_count": null,
   "metadata": {},
   "outputs": [],
   "source": [
    "nn_predictions_table = pd.DataFrame({\"Prediction\": predictions_nn_labels, \"Actual\": y_name_test})\n",
    "nn_predictions_table"
   ]
  },
  {
   "cell_type": "markdown",
   "metadata": {},
   "source": [
    "### Deep Neural Network"
   ]
  },
  {
   "cell_type": "code",
   "execution_count": null,
   "metadata": {},
   "outputs": [],
   "source": [
    "# Deep Neural Network\n",
    "\n",
    "nn_deep_model = Sequential()\n",
    "nn_deep_model.add(Dense(units=48,activation='relu', input_dim=16))\n",
    "nn_deep_model.add(Dense(units=48,activation='relu'))\n",
    "nn_deep_model.add(Dense(units=7, activation='softmax'))\n",
    "\n",
    "nn_deep_model.compile(optimizer='adam',\n",
    "              loss='categorical_crossentropy',\n",
    "              metrics=['accuracy'])\n",
    "\n",
    "nn_deep_model.fit(\n",
    "    X_train_scaled,\n",
    "    y_name_train_categorical,\n",
    "    epochs=1000,\n",
    "    shuffle=True,\n",
    "    verbose=2\n",
    ")"
   ]
  },
  {
   "cell_type": "code",
   "execution_count": null,
   "metadata": {},
   "outputs": [],
   "source": [
    "nn_model_loss, nn_model_accuracy = nn_model.evaluate(\n",
    "    X_test_scaled, y_name_test_categorical, verbose=2)\n",
    "print(\n",
    "    f\"Normal Neural Network - Loss: {nn_model_loss}, Accuracy: {nn_model_accuracy}\")"
   ]
  },
  {
   "cell_type": "code",
   "execution_count": null,
   "metadata": {},
   "outputs": [],
   "source": [
    "nn_deep_model_loss, nn_deep_model_accuracy = nn_deep_model.evaluate(\n",
    "    X_test_scaled, y_name_test_categorical, verbose=2)\n",
    "print(\n",
    "    f\"Normal Neural Network - Loss: {nn_deep_model_loss}, Accuracy: {nn_deep_model_accuracy}\")"
   ]
  }
 ],
 "metadata": {
  "kernelspec": {
   "display_name": "Python 3",
   "language": "python",
   "name": "python3"
  },
  "language_info": {
   "codemirror_mode": {
    "name": "ipython",
    "version": 3
   },
   "file_extension": ".py",
   "mimetype": "text/x-python",
   "name": "python",
   "nbconvert_exporter": "python",
   "pygments_lexer": "ipython3",
   "version": "3.6.12"
  }
 },
 "nbformat": 4,
 "nbformat_minor": 4
}
