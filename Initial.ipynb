{
 "cells": [
  {
   "cell_type": "code",
   "execution_count": null,
   "metadata": {},
   "outputs": [],
   "source": [
    "import matplotlib.pyplot as plt\n",
    "import numpy as np\n",
    "import pandas as pd\n",
    "import os"
   ]
  },
  {
   "cell_type": "code",
   "execution_count": null,
   "metadata": {},
   "outputs": [],
   "source": [
    "# Get CSV file\n",
    "zoo = pd.read_csv(os.path.join('Resources', 'zoo.csv'))\n",
    "zoo"
   ]
  },
  {
   "cell_type": "code",
   "execution_count": null,
   "metadata": {},
   "outputs": [],
   "source": [
    "zoo_df=zoo.set_index('animal_name')"
   ]
  },
  {
   "cell_type": "code",
   "execution_count": null,
   "metadata": {},
   "outputs": [],
   "source": [
    "# Data for predictions\n",
    "kangaroo = np.array([[1,0,0,1,0,0,0,1,1,1,0,0,2,1,0,1]])\n",
    "bald_eagle = np.array([[0,1,1,0,1,0,1,0,1,1,0,0,2,1,0,0]])\n",
    "rattle_snake = np.array([[0,0,1,0,0,0,1,1,1,1,1,0,0,1,0,0,]])\n",
    "goldfish = np.array([[0,0,1,0,0,1,0,0,1,0,0,1,0,1,1,0]])\n",
    "mountain_chicken_frog = np.array([[0,0,1,0,0,1,1,0,1,1,0,0,4,0,0,0]])\n",
    "vampire_moth = np.array([[0,0,1,0,1,0,1,0,0,1,0,0,6,0,0,0]])\n",
    "coral = np.array([[0,0,0,0,0,1,0,0,0,0,0,0,0,0,0,0]])\n",
    "sea_turtle = np.array([[0,0,1,0,0,1,1,0,1,0,0,1,4,1,0,1]])"
   ]
  },
  {
   "cell_type": "code",
   "execution_count": null,
   "metadata": {},
   "outputs": [],
   "source": [
    "# Assign X and y\n",
    "X = zoo_df.drop([\"class_type\",\"class\"], axis=1)\n",
    "y = zoo_df[\"class_type\"]\n",
    "print (X.shape, y.shape)"
   ]
  },
  {
   "cell_type": "code",
   "execution_count": null,
   "metadata": {},
   "outputs": [],
   "source": [
    "# Split data into training and testing sets\n",
    "from sklearn.model_selection import train_test_split\n",
    "\n",
    "X_train, X_test, y_train, y_test = train_test_split(X, y, random_state=1)"
   ]
  },
  {
   "cell_type": "markdown",
   "metadata": {},
   "source": [
    "### Logistic Regression"
   ]
  },
  {
   "cell_type": "code",
   "execution_count": null,
   "metadata": {},
   "outputs": [],
   "source": [
    "from sklearn.linear_model import LogisticRegression\n",
    "\n",
    "classifier = LogisticRegression(max_iter=500)\n",
    "classifier.fit(X_train, y_train)"
   ]
  },
  {
   "cell_type": "code",
   "execution_count": null,
   "metadata": {},
   "outputs": [],
   "source": [
    "print(f\"Training score: {classifier.score(X_train, y_train)}\")\n",
    "print(f\"Testing score: {classifier.score(X_test, y_test)}\")"
   ]
  },
  {
   "cell_type": "code",
   "execution_count": null,
   "metadata": {},
   "outputs": [],
   "source": [
    "print(f\"Predictions\")\n",
    "print(f\"Kangaroo: {classifier.predict(kangaroo)}\")\n",
    "print(f\"Bald Eagle: {classifier.predict(bald_eagle)}\")\n",
    "print(f\"Rattle Snake: {classifier.predict(rattle_snake)}\")\n",
    "print(f\"Goldfish: {classifier.predict(goldfish)}\")\n",
    "print(f\"Mountain Chicken Frog: {classifier.predict(mountain_chicken_frog)}\")\n",
    "print(f\"Vampire Moth: {classifier.predict(vampire_moth)}\")\n",
    "print(f\"Coral: {classifier.predict(coral)}\")\n",
    "print(f\"Sea Turtle: {classifier.predict(sea_turtle)}\")"
   ]
  },
  {
   "cell_type": "code",
   "execution_count": null,
   "metadata": {},
   "outputs": [],
   "source": [
    "predictions = classifier.predict(X_test)\n",
    "class_predictions_table = pd.DataFrame({\"Prediction\": predictions, \"Actual\": y_test})\n",
    "class_predictions_table.head()"
   ]
  },
  {
   "cell_type": "code",
   "execution_count": null,
   "metadata": {},
   "outputs": [],
   "source": [
    "importances = classifier.coef_\n",
    "importances"
   ]
  },
  {
   "cell_type": "markdown",
   "metadata": {},
   "source": [
    "### Random Forest "
   ]
  },
  {
   "cell_type": "code",
   "execution_count": null,
   "metadata": {},
   "outputs": [],
   "source": [
    "from sklearn.ensemble import RandomForestClassifier\n",
    "rf = RandomForestClassifier(n_estimators=100)\n",
    "rf = rf.fit(X_train, y_train)\n",
    "rf.score(X_train, y_train)"
   ]
  },
  {
   "cell_type": "code",
   "execution_count": null,
   "metadata": {},
   "outputs": [],
   "source": [
    "print(f\"Training score: {rf.score(X_train, y_train)}\")\n",
    "print(f\"Testing score: {rf.score(X_test, y_test)}\")"
   ]
  },
  {
   "cell_type": "code",
   "execution_count": null,
   "metadata": {},
   "outputs": [],
   "source": [
    "print(f\"Predictions\")\n",
    "print(f\"Kangaroo: {rf.predict(kangaroo)}\")\n",
    "print(f\"Bald Eagle: {rf.predict(bald_eagle)}\")\n",
    "print(f\"Rattle Snake: {rf.predict(rattle_snake)}\")\n",
    "print(f\"Goldfish: {rf.predict(goldfish)}\")\n",
    "print(f\"Mountain Chicken Frog: {rf.predict(mountain_chicken_frog)}\")\n",
    "print(f\"Vampire Moth: {rf.predict(vampire_moth)}\")\n",
    "print(f\"Coral: {rf.predict(coral)}\")\n",
    "print(f\"Sea Turtle: {rf.predict(sea_turtle)}\")"
   ]
  },
  {
   "cell_type": "code",
   "execution_count": null,
   "metadata": {},
   "outputs": [],
   "source": [
    "predictions = rf.predict(X_test)\n",
    "rf_predictions_table = pd.DataFrame({\"Prediction\": predictions, \"Actual\": y_test})\n",
    "rf_predictions_table.head()"
   ]
  },
  {
   "cell_type": "code",
   "execution_count": null,
   "metadata": {},
   "outputs": [],
   "source": [
    "importances = rf.feature_importances_\n",
    "importances"
   ]
  },
  {
   "cell_type": "markdown",
   "metadata": {},
   "source": [
    "### K Nearest Neighbor"
   ]
  },
  {
   "cell_type": "code",
   "execution_count": null,
   "metadata": {},
   "outputs": [],
   "source": [
    "from sklearn.neighbors import KNeighborsClassifier\n",
    "\n",
    "train_scores = []\n",
    "test_scores = []\n",
    "for k in range(1, 20, 2):\n",
    "    knn = KNeighborsClassifier(n_neighbors=k)\n",
    "    knn.fit(X_train, y_train)\n",
    "    train_score = knn.score(X_train, y_train)\n",
    "    test_score = knn.score(X_test, y_test)\n",
    "    train_scores.append(train_score)\n",
    "    test_scores.append(test_score)\n",
    "    print(f\"k: {k}, Train/Test Score: {train_score:.3f}/{test_score:.3f}\")"
   ]
  },
  {
   "cell_type": "code",
   "execution_count": null,
   "metadata": {},
   "outputs": [],
   "source": [
    "plt.plot(range(1, 20, 2), train_scores, marker='o')\n",
    "plt.plot(range(1, 20, 2), test_scores, marker=\"x\")\n",
    "plt.xlabel(\"k neighbors\")\n",
    "plt.ylabel(\"Testing accuracy Score\")\n",
    "plt.show()"
   ]
  },
  {
   "cell_type": "code",
   "execution_count": null,
   "metadata": {},
   "outputs": [],
   "source": [
    "knn = KNeighborsClassifier(n_neighbors=11)\n",
    "knn.fit(X_train, y_train)\n",
    "print('k=11 Train Acc: %.3f' % knn.score(X_train, y_train))\n",
    "print('k=11 Test Acc: %.3f' % knn.score(X_test, y_test))"
   ]
  },
  {
   "cell_type": "code",
   "execution_count": null,
   "metadata": {},
   "outputs": [],
   "source": [
    "print(f\"Predictions\")\n",
    "print(f\"Kangaroo: {knn.predict(kangaroo)}\")\n",
    "print(f\"Bald Eagle: {knn.predict(bald_eagle)}\")\n",
    "print(f\"Rattle Snake: {knn.predict(rattle_snake)}\")\n",
    "print(f\"Goldfish: {knn.predict(goldfish)}\")\n",
    "print(f\"Mountain Chicken Frog: {knn.predict(mountain_chicken_frog)}\")\n",
    "print(f\"Vampire Moth: {knn.predict(vampire_moth)}\")\n",
    "print(f\"Coral: {knn.predict(coral)}\")\n",
    "print(f\"Sea Turtle: {knn.predict(sea_turtle)}\")"
   ]
  },
  {
   "cell_type": "code",
   "execution_count": null,
   "metadata": {},
   "outputs": [],
   "source": [
    "predictionsknn = knn.predict(X_test)\n",
    "knn_predictions_table = pd.DataFrame({\"Prediction\": predictionsknn, \"Actual\": y_test})\n",
    "knn_predictions_table.head()"
   ]
  },
  {
   "cell_type": "code",
   "execution_count": null,
   "metadata": {},
   "outputs": [],
   "source": [
    "#Importances\n",
    "from sklearn.metrics import classification_report\n",
    "print(classification_report(y_test, predictionsknn))"
   ]
  },
  {
   "cell_type": "markdown",
   "metadata": {},
   "source": [
    "### Support Vector Machine"
   ]
  },
  {
   "cell_type": "code",
   "execution_count": null,
   "metadata": {},
   "outputs": [],
   "source": [
    "from sklearn.svm import SVC\n",
    "svm_model = SVC(kernel='linear')\n",
    "svm_model.fit(X_train, y_train)\n",
    "\n",
    "print('Train Acc: %.3f' % svm_model.score(X_train, y_train))\n",
    "print('Test Acc: %.3f' % svm_model.score(X_test, y_test))"
   ]
  },
  {
   "cell_type": "code",
   "execution_count": null,
   "metadata": {},
   "outputs": [],
   "source": [
    "predictionssvm = svm_model.predict(X_test)\n",
    "print(classification_report(y_test, predictionssvm,\n",
    "                            target_names=[\"1\",\"2\",\"3\",\"4\",\"5\",\"6\",\"7\"]))"
   ]
  },
  {
   "cell_type": "code",
   "execution_count": null,
   "metadata": {},
   "outputs": [],
   "source": [
    "#Train the parameters? Do we want to do this?\n",
    "from sklearn.model_selection import GridSearchCV\n",
    "param_grid = {'C': [1, 5, 10, 50],\n",
    "              'gamma': [0.0001, 0.0005, 0.001, 0.005]}\n",
    "grid = GridSearchCV(svm_model, param_grid, verbose=3)\n",
    "\n",
    "grid.fit(X_train, y_train)"
   ]
  },
  {
   "cell_type": "code",
   "execution_count": null,
   "metadata": {},
   "outputs": [],
   "source": [
    "print(grid.best_params_)\n",
    "print(grid.best_score_)\n"
   ]
  },
  {
   "cell_type": "code",
   "execution_count": null,
   "metadata": {},
   "outputs": [],
   "source": [
    "print(f\"Predictions\")\n",
    "print(f\"Kangaroo: {grid.predict(kangaroo)}\")\n",
    "print(f\"Bald Eagle: {grid.predict(bald_eagle)}\")\n",
    "print(f\"Rattle Snake: {grid.predict(rattle_snake)}\")\n",
    "print(f\"Goldfish: {grid.predict(goldfish)}\")\n",
    "print(f\"Mountain Chicken Frog: {grid.predict(mountain_chicken_frog)}\")\n",
    "print(f\"Vampire Moth: {grid.predict(vampire_moth)}\")\n",
    "print(f\"Coral: {grid.predict(coral)}\")\n",
    "print(f\"Sea Turtle: {grid.predict(sea_turtle)}\")"
   ]
  },
  {
   "cell_type": "code",
   "execution_count": null,
   "metadata": {},
   "outputs": [],
   "source": [
    "svm_predictions_table = pd.DataFrame({\"Prediction\": predictionssvm, \"Actual\": y_test})\n",
    "svm_predictions_table.head()"
   ]
  },
  {
   "cell_type": "code",
   "execution_count": null,
   "metadata": {},
   "outputs": [],
   "source": []
  }
 ],
 "metadata": {
  "kernelspec": {
   "display_name": "Python 3",
   "language": "python",
   "name": "python3"
  },
  "language_info": {
   "codemirror_mode": {
    "name": "ipython",
    "version": 3
   },
   "file_extension": ".py",
   "mimetype": "text/x-python",
   "name": "python",
   "nbconvert_exporter": "python",
   "pygments_lexer": "ipython3",
   "version": "3.6.12"
  }
 },
 "nbformat": 4,
 "nbformat_minor": 4
}
