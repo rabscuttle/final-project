{
 "cells": [
  {
   "cell_type": "code",
   "execution_count": null,
   "metadata": {},
   "outputs": [],
   "source": [
    "#Think about scaling"
   ]
  },
  {
   "cell_type": "code",
   "execution_count": null,
   "metadata": {},
   "outputs": [],
   "source": [
    "import matplotlib.pyplot as plt\n",
    "import numpy as np\n",
    "import pandas as pd\n",
    "import os"
   ]
  },
  {
   "cell_type": "code",
   "execution_count": null,
   "metadata": {},
   "outputs": [],
   "source": [
    "# Get CSV file\n",
    "zoo = pd.read_csv(os.path.join('Resources', 'zoo.csv'))"
   ]
  },
  {
   "cell_type": "code",
   "execution_count": null,
   "metadata": {},
   "outputs": [],
   "source": [
    "zoo_df=zoo.set_index('animal_name')\n",
    "zoo_df"
   ]
  },
  {
   "cell_type": "code",
   "execution_count": null,
   "metadata": {},
   "outputs": [],
   "source": [
    "# Data for predictions\n",
    "kangaroo = np.array([[1,0,0,1,0,0,0,1,1,1,0,0,2,1,0,1]])\n",
    "bald_eagle = np.array([[0,1,1,0,1,0,1,0,1,1,0,0,2,1,0,0]])\n",
    "rattle_snake = np.array([[0,0,1,0,0,0,1,1,1,1,1,0,0,1,0,0,]])\n",
    "goldfish = np.array([[0,0,1,0,0,1,0,0,1,0,0,1,0,1,1,0]])\n",
    "mountain_chicken_frog = np.array([[0,0,1,0,0,1,1,0,1,1,0,0,4,0,0,0]])\n",
    "vampire_moth = np.array([[0,0,1,0,1,0,1,0,0,1,0,0,6,0,0,0]])\n",
    "coral = np.array([[0,0,0,0,0,1,0,0,0,0,0,0,0,0,0,0]])\n",
    "sea_turtle = np.array([[0,0,1,0,0,1,1,0,1,0,0,1,4,1,0,1]])"
   ]
  },
  {
   "cell_type": "code",
   "execution_count": null,
   "metadata": {},
   "outputs": [],
   "source": [
    "# Assign X and y\n",
    "X = zoo_df.drop([\"class_type\",\"class\"], axis=1)\n",
    "y = zoo_df[\"class_type\"]\n",
    "y_name = zoo_df[\"class\"]\n",
    "print (X.shape, y.shape)"
   ]
  },
  {
   "cell_type": "code",
   "execution_count": null,
   "metadata": {},
   "outputs": [],
   "source": [
    "# Import K-Means\n",
    "from sklearn.cluster import KMeans\n",
    "kmeans = KMeans(n_clusters=7)"
   ]
  },
  {
   "cell_type": "code",
   "execution_count": null,
   "metadata": {},
   "outputs": [],
   "source": [
    "clusters = kmeans.fit_predict(X)\n",
    "zoo_df['Cluster'] = clusters"
   ]
  },
  {
   "cell_type": "code",
   "execution_count": null,
   "metadata": {},
   "outputs": [],
   "source": [
    "zoo_df[[\"class\", \"Cluster\"]].head(60)"
   ]
  },
  {
   "cell_type": "code",
   "execution_count": null,
   "metadata": {},
   "outputs": [],
   "source": [
    "zoo_df['Cluster'].value_counts()"
   ]
  },
  {
   "cell_type": "code",
   "execution_count": null,
   "metadata": {},
   "outputs": [],
   "source": [
    "name_cluster_df = zoo_df[[\"class\", \"Cluster\"]].head(60)"
   ]
  },
  {
   "cell_type": "code",
   "execution_count": null,
   "metadata": {},
   "outputs": [],
   "source": [
    "name_cluster_df.loc[name_cluster_df['Cluster'] == 0]"
   ]
  },
  {
   "cell_type": "code",
   "execution_count": null,
   "metadata": {},
   "outputs": [],
   "source": [
    "name_cluster_df.loc[name_cluster_df['Cluster'] == 1]"
   ]
  },
  {
   "cell_type": "code",
   "execution_count": null,
   "metadata": {},
   "outputs": [],
   "source": [
    "name_cluster_df.loc[name_cluster_df['Cluster'] == 2]"
   ]
  },
  {
   "cell_type": "code",
   "execution_count": null,
   "metadata": {},
   "outputs": [],
   "source": [
    "name_cluster_df.loc[name_cluster_df['Cluster'] == 3]"
   ]
  },
  {
   "cell_type": "code",
   "execution_count": null,
   "metadata": {},
   "outputs": [],
   "source": [
    "name_cluster_df.loc[name_cluster_df['Cluster'] == 4]"
   ]
  },
  {
   "cell_type": "code",
   "execution_count": null,
   "metadata": {},
   "outputs": [],
   "source": [
    "name_cluster_df.loc[name_cluster_df['Cluster'] == 5]"
   ]
  },
  {
   "cell_type": "code",
   "execution_count": null,
   "metadata": {},
   "outputs": [],
   "source": [
    "name_cluster_df.loc[name_cluster_df['Cluster'] == 6]"
   ]
  },
  {
   "cell_type": "code",
   "execution_count": null,
   "metadata": {},
   "outputs": [],
   "source": [
    "print(f\"Predicted Cluster\")\n",
    "print(f\"Kangaroo: {kmeans.predict(kangaroo)}\")\n",
    "print(f\"Bald Eagle: {kmeans.predict(bald_eagle)}\")\n",
    "print(f\"Rattle Snake: {kmeans.predict(rattle_snake)}\")\n",
    "print(f\"Goldfish: {kmeans.predict(goldfish)}\")\n",
    "print(f\"Mountain Chicken Frog: {kmeans.predict(mountain_chicken_frog)}\")\n",
    "print(f\"Vampire Moth: {kmeans.predict(vampire_moth)}\")\n",
    "print(f\"Coral: {kmeans.predict(coral)}\")\n",
    "print(f\"Sea Turtle: {kmeans.predict(sea_turtle)}\")"
   ]
  },
  {
   "cell_type": "code",
   "execution_count": null,
   "metadata": {},
   "outputs": [],
   "source": [
    "from sklearn.decomposition import PCA #Principal Component Analysis"
   ]
  },
  {
   "cell_type": "code",
   "execution_count": null,
   "metadata": {},
   "outputs": [],
   "source": [
    "#DataFrame containing 212 values sampled randomly from X\n",
    "plotX = pd.DataFrame(np.array(zoo_df.sample(212)))\n",
    "\n",
    "#Rename plotX's columns since it was briefly converted to an np.array above\n",
    "plotX.columns = zoo_df.columns"
   ]
  },
  {
   "cell_type": "code",
   "execution_count": null,
   "metadata": {},
   "outputs": [],
   "source": [
    "plotX = plotX.drop([\"class\"], axis=1)"
   ]
  },
  {
   "cell_type": "code",
   "execution_count": null,
   "metadata": {},
   "outputs": [],
   "source": [
    "#PCA with one principal component\n",
    "pca_1d = PCA(n_components=1)\n",
    "\n",
    "#PCA with two principal components\n",
    "pca_2d = PCA(n_components=2)\n",
    "\n",
    "#PCA with three principal components\n",
    "pca_3d = PCA(n_components=3)"
   ]
  },
  {
   "cell_type": "code",
   "execution_count": null,
   "metadata": {},
   "outputs": [],
   "source": [
    "#This DataFrame holds that single principal component mentioned above\n",
    "PCs_1d = pd.DataFrame(pca_1d.fit_transform(plotX.drop([\"Cluster\"], axis=1)))\n",
    "\n",
    "#This DataFrame contains the two principal components that will be used\n",
    "#for the 2-D visualization mentioned above\n",
    "PCs_2d = pd.DataFrame(pca_2d.fit_transform(plotX.drop([\"Cluster\"], axis=1)))\n",
    "\n",
    "#And this DataFrame contains three principal components that will aid us\n",
    "#in visualizing our clusters in 3-D\n",
    "PCs_3d = pd.DataFrame(pca_3d.fit_transform(plotX.drop([\"Cluster\"], axis=1)))"
   ]
  },
  {
   "cell_type": "code",
   "execution_count": null,
   "metadata": {},
   "outputs": [],
   "source": [
    "PCs_1d.columns = [\"PC1_1d\"]\n",
    "\n",
    "#\"PC1_2d\" means: 'The first principal component of the components created for 2-D visualization, by PCA.'\n",
    "#And \"PC2_2d\" means: 'The second principal component of the components created for 2-D visualization, by PCA.'\n",
    "PCs_2d.columns = [\"PC1_2d\", \"PC2_2d\"]\n",
    "\n",
    "PCs_3d.columns = [\"PC1_3d\", \"PC2_3d\", \"PC3_3d\"]"
   ]
  },
  {
   "cell_type": "code",
   "execution_count": null,
   "metadata": {},
   "outputs": [],
   "source": [
    "plotX = pd.concat([plotX,PCs_1d,PCs_2d,PCs_3d], axis=1, join='inner')"
   ]
  },
  {
   "cell_type": "code",
   "execution_count": null,
   "metadata": {},
   "outputs": [],
   "source": [
    "plotX[\"dummy\"] = 0"
   ]
  },
  {
   "cell_type": "code",
   "execution_count": null,
   "metadata": {},
   "outputs": [],
   "source": [
    "cluster0 = plotX[plotX[\"Cluster\"] == 0]\n",
    "cluster1 = plotX[plotX[\"Cluster\"] == 1]\n",
    "cluster2 = plotX[plotX[\"Cluster\"] == 2]\n",
    "cluster3 = plotX[plotX[\"Cluster\"] == 3]\n",
    "cluster4 = plotX[plotX[\"Cluster\"] == 4]\n",
    "cluster5 = plotX[plotX[\"Cluster\"] == 5]\n",
    "cluster6 = plotX[plotX[\"Cluster\"] == 6]"
   ]
  },
  {
   "cell_type": "code",
   "execution_count": null,
   "metadata": {},
   "outputs": [],
   "source": [
    "#plotly imports\n",
    "import plotly as py\n",
    "import plotly.graph_objs as go\n",
    "from plotly.offline import download_plotlyjs, init_notebook_mode, plot, iplot"
   ]
  },
  {
   "cell_type": "code",
   "execution_count": null,
   "metadata": {},
   "outputs": [],
   "source": [
    "#Instructions for building the 1-D plot\n",
    "\n",
    "#trace1 is for 'Cluster 0'\n",
    "trace1 = go.Scatter(\n",
    "                    x = cluster0[\"PC1_1d\"],\n",
    "                    y = cluster0[\"dummy\"],\n",
    "                    mode = \"markers\",\n",
    "                    name = \"Cluster 0\",\n",
    "                    marker = dict(color = 'rgba(255, 128, 255, 0.8)'),\n",
    "                    text = None)\n",
    "\n",
    "#trace2 is for 'Cluster 1'\n",
    "trace2 = go.Scatter(\n",
    "                    x = cluster1[\"PC1_1d\"],\n",
    "                    y = cluster1[\"dummy\"],\n",
    "                    mode = \"markers\",\n",
    "                    name = \"Cluster 1\",\n",
    "                    marker = dict(color = 'rgba(255, 128, 2, 0.8)'),\n",
    "                    text = None)\n",
    "\n",
    "#trace3 is for 'Cluster 2'\n",
    "trace3 = go.Scatter(\n",
    "                    x = cluster2[\"PC1_1d\"],\n",
    "                    y = cluster2[\"dummy\"],\n",
    "                    mode = \"markers\",\n",
    "                    name = \"Cluster 2\",\n",
    "                    marker = dict(color = 'rgba(0, 255, 200, 0.8)'),\n",
    "                    text = None)\n",
    "\n",
    "#trace4 is for 'Cluster 3'\n",
    "trace4 = go.Scatter(\n",
    "                    x = cluster3[\"PC1_1d\"],\n",
    "                    y = cluster3[\"dummy\"],\n",
    "                    mode = \"markers\",\n",
    "                    name = \"Cluster 3\",\n",
    "                    marker = dict(color = '#1f77b4'),\n",
    "                    text = None)\n",
    "\n",
    "#trace5 is for 'Cluster 4'\n",
    "trace5 = go.Scatter(\n",
    "                    x = cluster4[\"PC1_1d\"],\n",
    "                    y = cluster4[\"dummy\"],\n",
    "                    mode = \"markers\",\n",
    "                    name = \"Cluster 4\",\n",
    "                    marker = dict(color = '#9467bd'),\n",
    "                    text = None)\n",
    "\n",
    "#trace6 is for 'Cluster 5'\n",
    "trace6 = go.Scatter(\n",
    "                    x = cluster5[\"PC1_1d\"],\n",
    "                    y = cluster5[\"dummy\"],\n",
    "                    mode = \"markers\",\n",
    "                    name = \"Cluster 5\",\n",
    "                    marker = dict(color = '#e377c2'),\n",
    "                    text = None)\n",
    "\n",
    "#trace7 is for 'Cluster 6'\n",
    "trace7 = go.Scatter(\n",
    "                    x = cluster6[\"PC1_1d\"],\n",
    "                    y = cluster6[\"dummy\"],\n",
    "                    mode = \"markers\",\n",
    "                    name = \"Cluster 6\",\n",
    "                    marker = dict(color = '#2ca02c'),\n",
    "                    text = None)\n",
    "\n",
    "data = [trace1, trace2, trace3, trace4, trace5, trace6, trace7]\n",
    "\n",
    "title = \"Visualizing Clusters in One Dimension Using PCA\"\n",
    "\n",
    "layout = dict(title = title,\n",
    "              xaxis= dict(title= 'PC1',ticklen= 5,zeroline= False),\n",
    "              yaxis= dict(title= '',ticklen= 5,zeroline= False)\n",
    "             )\n",
    "\n",
    "fig = dict(data = data, layout = layout)\n",
    "\n",
    "iplot(fig)"
   ]
  },
  {
   "cell_type": "code",
   "execution_count": null,
   "metadata": {},
   "outputs": [],
   "source": [
    "#Instructions for building the 2-D plot\n",
    "\n",
    "#trace1 is for 'Cluster 0'\n",
    "trace1 = go.Scatter(\n",
    "                    x = cluster0[\"PC1_2d\"],\n",
    "                    y = cluster0[\"PC2_2d\"],\n",
    "                    mode = \"markers\",\n",
    "                    name = \"Cluster 0\",\n",
    "                    marker = dict(color = 'rgba(255, 128, 255, 0.8)'),\n",
    "                    text = None)\n",
    "\n",
    "#trace2 is for 'Cluster 1'\n",
    "trace2 = go.Scatter(\n",
    "                    x = cluster1[\"PC1_2d\"],\n",
    "                    y = cluster1[\"PC2_2d\"],\n",
    "                    mode = \"markers\",\n",
    "                    name = \"Cluster 1\",\n",
    "                    marker = dict(color = 'rgba(255, 128, 2, 0.8)'),\n",
    "                    text = None)\n",
    "\n",
    "#trace3 is for 'Cluster 2'\n",
    "trace3 = go.Scatter(\n",
    "                    x = cluster2[\"PC1_2d\"],\n",
    "                    y = cluster2[\"PC2_2d\"],\n",
    "                    mode = \"markers\",\n",
    "                    name = \"Cluster 2\",\n",
    "                    marker = dict(color = 'rgba(0, 255, 200, 0.8)'),\n",
    "                    text = None)\n",
    "\n",
    "#trace4 is for 'Cluster 3'\n",
    "trace4 = go.Scatter(\n",
    "                    x = cluster3[\"PC1_2d\"],\n",
    "                    y = cluster3[\"PC2_2d\"],\n",
    "                    mode = \"markers\",\n",
    "                    name = \"Cluster 3\",\n",
    "                    marker = dict(color = '#1f77b4'),\n",
    "                    text = None)\n",
    "\n",
    "#trace5 is for 'Cluster 4'\n",
    "trace5 = go.Scatter(\n",
    "                    x = cluster4[\"PC1_2d\"],\n",
    "                    y = cluster4[\"PC2_2d\"],\n",
    "                    mode = \"markers\",\n",
    "                    name = \"Cluster 4\",\n",
    "                    marker = dict(color = '#9467bd'),\n",
    "                    text = None)\n",
    "\n",
    "#trace6 is for 'Cluster 5'\n",
    "trace6 = go.Scatter(\n",
    "                    x = cluster5[\"PC1_2d\"],\n",
    "                    y = cluster5[\"PC2_2d\"],\n",
    "                    mode = \"markers\",\n",
    "                    name = \"Cluster 5\",\n",
    "                    marker = dict(color = '#e377c2'),\n",
    "                    text = None)\n",
    "\n",
    "#trace7 is for 'Cluster 6'\n",
    "trace7 = go.Scatter(\n",
    "                    x = cluster6[\"PC1_2d\"],\n",
    "                    y = cluster6[\"PC2_2d\"],\n",
    "                    mode = \"markers\",\n",
    "                    name = \"Cluster 6\",\n",
    "                    marker = dict(color = '#2ca02c'),\n",
    "                    text = None)\n",
    "\n",
    "data = [trace1, trace2, trace3, trace4, trace5, trace6, trace7]\n",
    "\n",
    "title = \"Visualizing Clusters in Two Dimensions Using PCA\"\n",
    "\n",
    "layout = dict(title = title,\n",
    "              xaxis= dict(title= 'PC1',ticklen= 5,zeroline= False),\n",
    "              yaxis= dict(title= 'PC2',ticklen= 5,zeroline= False)\n",
    "             )\n",
    "\n",
    "fig = dict(data = data, layout = layout)\n",
    "\n",
    "iplot(fig)"
   ]
  },
  {
   "cell_type": "code",
   "execution_count": null,
   "metadata": {},
   "outputs": [],
   "source": [
    "#Instructions for building the 3-D plot\n",
    "\n",
    "#trace1 is for 'Cluster 0'\n",
    "trace1 = go.Scatter3d(\n",
    "                    x = cluster0[\"PC1_3d\"],\n",
    "                    y = cluster0[\"PC2_3d\"],\n",
    "                    z = cluster0[\"PC3_3d\"],\n",
    "                    mode = \"markers\",\n",
    "                    name = \"Cluster 0\",\n",
    "                    marker = dict(color = 'rgba(255, 128, 255, 0.8)'),\n",
    "                    text = None)\n",
    "\n",
    "#trace2 is for 'Cluster 1'\n",
    "trace2 = go.Scatter3d(\n",
    "                    x = cluster1[\"PC1_3d\"],\n",
    "                    y = cluster1[\"PC2_3d\"],\n",
    "                    z = cluster1[\"PC3_3d\"],\n",
    "                    mode = \"markers\",\n",
    "                    name = \"Cluster 1\",\n",
    "                    marker = dict(color = 'rgba(255, 128, 2, 0.8)'),\n",
    "                    text = None)\n",
    "\n",
    "#trace3 is for 'Cluster 2'\n",
    "trace3 = go.Scatter3d(\n",
    "                    x = cluster2[\"PC1_3d\"],\n",
    "                    y = cluster2[\"PC2_3d\"],\n",
    "                    z = cluster2[\"PC3_3d\"],\n",
    "                    mode = \"markers\",\n",
    "                    name = \"Cluster 2\",\n",
    "                    marker = dict(color = 'rgba(0, 255, 200, 0.8)'),\n",
    "                    text = None)\n",
    "\n",
    "#trace4 is for 'Cluster 3'\n",
    "trace4 = go.Scatter3d(\n",
    "                    x = cluster3[\"PC1_3d\"],\n",
    "                    y = cluster3[\"PC2_3d\"],\n",
    "                    z = cluster3[\"PC3_3d\"],\n",
    "                    mode = \"markers\",\n",
    "                    name = \"Cluster 3\",\n",
    "                    marker = dict(color = '#1f77b4'),\n",
    "                    text = None)\n",
    "\n",
    "#trace5 is for 'Cluster 4'\n",
    "trace5 = go.Scatter3d(\n",
    "                    x = cluster4[\"PC1_3d\"],\n",
    "                    y = cluster4[\"PC2_3d\"],\n",
    "                    z = cluster4[\"PC3_3d\"],\n",
    "                    mode = \"markers\",\n",
    "                    name = \"Cluster 4\",\n",
    "                    marker = dict(color = '#9467bd'),\n",
    "                    text = None)\n",
    "\n",
    "#trace6 is for 'Cluster 5'\n",
    "trace6 = go.Scatter3d(\n",
    "                    x = cluster5[\"PC1_3d\"],\n",
    "                    y = cluster5[\"PC2_3d\"],\n",
    "                    z = cluster5[\"PC3_3d\"],\n",
    "                    mode = \"markers\",\n",
    "                    name = \"Cluster 5\",\n",
    "                    marker = dict(color = '#e377c2'),\n",
    "                    text = None)\n",
    "\n",
    "#trace7 is for 'Cluster 6'\n",
    "trace7 = go.Scatter3d(\n",
    "                    x = cluster6[\"PC1_3d\"],\n",
    "                    y = cluster6[\"PC2_3d\"],\n",
    "                    z = cluster6[\"PC3_3d\"],\n",
    "                    mode = \"markers\",\n",
    "                    name = \"Cluster 6\",\n",
    "                    marker = dict(color = '#2ca02c'),\n",
    "                    text = None)\n",
    "\n",
    "data = [trace1, trace2, trace3, trace4, trace5, trace6, trace7]\n",
    "\n",
    "title = \"Visualizing Clusters in Three Dimensions Using PCA\"\n",
    "\n",
    "layout = dict(title = title,\n",
    "              xaxis= dict(title= 'PC1',ticklen= 5,zeroline= False),\n",
    "              yaxis= dict(title= 'PC2',ticklen= 5,zeroline= False)\n",
    "             )\n",
    "\n",
    "fig = dict(data = data, layout = layout)\n",
    "\n",
    "iplot(fig)"
   ]
  }
 ],
 "metadata": {
  "kernelspec": {
   "display_name": "Python 3",
   "language": "python",
   "name": "python3"
  },
  "language_info": {
   "codemirror_mode": {
    "name": "ipython",
    "version": 3
   },
   "file_extension": ".py",
   "mimetype": "text/x-python",
   "name": "python",
   "nbconvert_exporter": "python",
   "pygments_lexer": "ipython3",
   "version": "3.6.12"
  }
 },
 "nbformat": 4,
 "nbformat_minor": 4
}
